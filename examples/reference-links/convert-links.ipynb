{
 "cells": [
  {
   "cell_type": "markdown",
   "metadata": {},
   "source": [
    "## Reference Links"
   ]
  },
  {
   "cell_type": "code",
   "execution_count": 1,
   "metadata": {},
   "outputs": [],
   "source": [
    "from pathlib import Path\n",
    "\n",
    "Path.mkdir(Path.cwd(), exist_ok=True)\n",
    "path = Path.cwd()"
   ]
  },
  {
   "cell_type": "markdown",
   "metadata": {},
   "source": [
    "### Convert Links\n",
    "\n",
    "Links can be converted to reference link syntax. This method will convert *ALL* inline links to reference links.\n",
    "\n",
    "Additionnaly, you can select where to place the reference links:\n",
    "1. At the end of the document (default)\n",
    "2. At the end of the heading section they are in"
   ]
  },
  {
   "cell_type": "markdown",
   "metadata": {},
   "source": [
    "#### Initialize the Converter"
   ]
  },
  {
   "cell_type": "code",
   "execution_count": 2,
   "metadata": {},
   "outputs": [],
   "source": [
    "from markitecture import ReferenceLinkConverter\n",
    "\n",
    "converter = ReferenceLinkConverter()"
   ]
  },
  {
   "cell_type": "markdown",
   "metadata": {},
   "source": [
    "#### End of Document"
   ]
  },
  {
   "cell_type": "code",
   "execution_count": 3,
   "metadata": {},
   "outputs": [],
   "source": [
    "from markitecture import ReferenceLinkConverter, ReferencePlacement\n",
    "\n",
    "converter = ReferenceLinkConverter().process_file(\n",
    "    \"../../tests/data/pydantic.md\",\n",
    "    \"../../examples/reference-links/convert-pydantic3.md\",\n",
    "    ReferencePlacement.SECTION,\n",
    ")"
   ]
  },
  {
   "cell_type": "markdown",
   "metadata": {},
   "source": [
    "#### End of Document"
   ]
  },
  {
   "cell_type": "code",
   "execution_count": 18,
   "metadata": {},
   "outputs": [],
   "source": [
    "converter.process_file(\n",
    "    input_path=\"../../examples/reference-links/readme-ai.md\",\n",
    "    output_path=\"../../examples/reference-links/convert-readme-ai.md\",\n",
    "    placement=ReferencePlacement.END,\n",
    ")"
   ]
  },
  {
   "cell_type": "markdown",
   "metadata": {},
   "source": [
    "---"
   ]
  },
  {
   "cell_type": "code",
   "execution_count": null,
   "metadata": {},
   "outputs": [],
   "source": [
    "converter = ReferenceLinkConverter()\n",
    "updated_content = converter.convert_to_reflinks(\n",
    "    content=\"../../tests/data/pydantic.md\",\n",
    "    naming=\"../../tests/data/pydantic.md\",\n",
    "    groupingGroupingStrategy.B=Y_TYPE,\n",
    ")\n",
    "print(updated_content)"
   ]
  },
  {
   "cell_type": "code",
   "execution_count": null,
   "metadata": {},
   "outputs": [],
   "source": []
  }
 ],
 "metadata": {
  "kernelspec": {
   "display_name": ".venv",
   "language": "python",
   "name": "python3"
  },
  "language_info": {
   "codemirror_mode": {
    "name": "ipython",
    "version": 3
   },
   "file_extension": ".py",
   "mimetype": "text/x-python",
   "name": "python",
   "nbconvert_exporter": "python",
   "pygments_lexer": "ipython3",
   "version": "3.11.10"
  }
 },
 "nbformat": 4,
 "nbformat_minor": 2
}
